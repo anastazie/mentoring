{
 "cells": [
  {
   "cell_type": "markdown",
   "metadata": {},
   "source": [
    "# Python 1 základy"
   ]
  },
  {
   "cell_type": "markdown",
   "metadata": {},
   "source": [
    "1.\n",
    "  - Zadání\n",
    "    - Vytísknout na obrazovku řetězec pozpátku\n",
    "  - Příklad vstupu\n",
    "    - `'python'`, `'apple'`, `'bob'`\n",
    "  - Příklad výstupu\n",
    "    - `'nohtyp'`, `'elppa'`, `'bob'`\n"
   ]
  },
  {
   "cell_type": "code",
   "execution_count": 1,
   "metadata": {},
   "outputs": [
    {
     "name": "stdout",
     "output_type": "stream",
     "text": [
      "nohtyp\n",
      "elppa\n",
      "bob\n"
     ]
    }
   ],
   "source": [
    "inputs = ['python', 'apple', 'bob']\n",
    "for item in inputs:\n",
    "    print(item[::-1])"
   ]
  },
  {
   "cell_type": "markdown",
   "metadata": {},
   "source": [
    "2.\n",
    "  - Zadání\n",
    "    - Spojít seznam řětězců do jednoho řetězce\n",
    "  - Příklad vstupu\n",
    "    - `['L', 'e', 'n', 'k', 'a']`, `['1', '2', '3']`, `['a']`\n",
    "  - Příklad výstupu\n",
    "    - `'Lenka'`, `'123'`, `'a'`"
   ]
  },
  {
   "cell_type": "code",
   "execution_count": 2,
   "metadata": {},
   "outputs": [
    {
     "name": "stdout",
     "output_type": "stream",
     "text": [
      "Lenka\n",
      "123\n",
      "a\n"
     ]
    }
   ],
   "source": [
    "inputs = [['L', 'e', 'n', 'k', 'a'], ['1', '2', '3'], ['a']]\n",
    "for item in inputs:\n",
    "    print(''.join(item))"
   ]
  },
  {
   "cell_type": "markdown",
   "metadata": {},
   "source": [
    "3.\n",
    "  - Zadání\n",
    "    - Zjistít rozdíl mezi prvním a druhým seznamem\n",
    "  - Příklad vstupu\n",
    "    - `[1, 2, 3, 5, 7, 8]` a `[1, 2, 4, 5, 6, 8]`, `['a', 'c', 'd']` a `['d', 'a', 'b']`, `[1, 2, 3]` a `[1, 2, 3]`\n",
    "  - Příklad výstupu\n",
    "    - `[3, 7]`, `['c']`, `[]`"
   ]
  },
  {
   "cell_type": "code",
   "execution_count": 3,
   "metadata": {},
   "outputs": [
    {
     "name": "stdout",
     "output_type": "stream",
     "text": [
      "[3, 7]\n",
      "['c']\n",
      "[]\n"
     ]
    }
   ],
   "source": [
    "inputs = [([1, 2, 3, 5, 7, 8], [1, 2, 4, 5, 6, 8]), (['a', 'c', 'd'], ['d', 'a', 'b']), ([1, 2, 3], [1, 2, 3])]\n",
    "for list1, list2 in inputs:\n",
    "    print(list(set(list1) - set(list2)))"
   ]
  },
  {
   "cell_type": "markdown",
   "metadata": {},
   "source": [
    "4.\n",
    "  - Zadání\n",
    "    - Přidat hodnoty druhého slovníku k prvnímu\n",
    "  - Příklad vstupu\n",
    "    - `{'a': 1, 'c': 2, 'd': 3}` a `{'e': 1, 'f': 15}`, `{'a': 1, 'c': 2, 'd': 3}` a `{'c': 1, 'f': 15}`, `{'a': 1, 'c': 2, 'd': 3}` a `{1: 'c', 2: 'b'}`\n",
    "  - Příklad výstupu\n",
    "    - `{'a': 1, 'c': 2, 'd': 3, 'e': 1, 'f': 15}`, `{'a': 1, 'c': 1, 'd': 3, 'f': 15}`, `{1: 'c', 2: 'b', 'a': 1, 'c': 2, 'd': 3}`"
   ]
  },
  {
   "cell_type": "code",
   "execution_count": 4,
   "metadata": {},
   "outputs": [
    {
     "name": "stdout",
     "output_type": "stream",
     "text": [
      "{'a': 1, 'c': 2, 'd': 3, 'e': 1, 'f': 15}\n",
      "{'a': 1, 'c': 1, 'd': 3, 'f': 15}\n",
      "{'a': 1, 'c': 2, 'd': 3, 1: 'c', 2: 'b'}\n"
     ]
    }
   ],
   "source": [
    "inputs = [({'a': 1, 'c': 2, 'd': 3}, {'e': 1, 'f': 15}), ({'a': 1, 'c': 2, 'd': 3}, {'c': 1, 'f': 15}), ({'a': 1, 'c': 2, 'd': 3}, {1: 'c', 2: 'b'})]\n",
    "for dict1, dict2 in inputs:\n",
    "    dict1.update(dict2)\n",
    "    print(dict1)"
   ]
  },
  {
   "cell_type": "markdown",
   "metadata": {},
   "source": [
    "5.\n",
    "  - Zadání\n",
    "    - Sečíst všechny hodnoty ve slovníku\n",
    "  - Příklad vstupu\n",
    "    - `{'a': 1, 'c': 2, 'd': 3}`, `{'věk': 10, 'věk': 20}`, `{'hodnota': 100}`\n",
    "  - Příklad výstupu\n",
    "    - `6`, `20`, `100`\n"
   ]
  },
  {
   "cell_type": "code",
   "execution_count": 5,
   "metadata": {},
   "outputs": [
    {
     "name": "stdout",
     "output_type": "stream",
     "text": [
      "6\n",
      "20\n",
      "100\n"
     ]
    }
   ],
   "source": [
    "inputs = [{'a': 1, 'c': 2, 'd': 3}, {'věk': 10, 'věk': 20}, {'hodnota': 100}]\n",
    "for item in inputs:\n",
    "    print(sum(item.values()))"
   ]
  },
  {
   "cell_type": "markdown",
   "metadata": {},
   "source": [
    "6.\n",
    "  - Zadání\n",
    "    - Najít nejkratší prvek seznamu\n",
    "  - Příklad vstupu\n",
    "    - `['jablka', 'hrušky', 'kiwi', 'ananas']`, `['abc', ['a', 'b'], 'lmn']`, `['abc', 'dce', 'lmn']`\n",
    "  - Příklad výstupu\n",
    "    - `'kiwi'`, `['a', 'b']`, `'abc'`\n"
   ]
  },
  {
   "cell_type": "code",
   "execution_count": 6,
   "metadata": {},
   "outputs": [
    {
     "name": "stdout",
     "output_type": "stream",
     "text": [
      "kiwi\n",
      "['a', 'b']\n",
      "abc\n"
     ]
    }
   ],
   "source": [
    "inputs = [['jablka', 'hrušky', 'kiwi', 'ananas'], ['abc', ['a', 'b'], 'lmn'], ['abc', 'dce', 'lmn']]\n",
    "for item in inputs:\n",
    "    item.sort(key=lambda x: len(x))\n",
    "    print(item[0])"
   ]
  },
  {
   "cell_type": "markdown",
   "metadata": {},
   "source": [
    "7.\n",
    "  - Zadání\n",
    "    - Vytvořit slovník ze seznamu, kde klíčem bude prvek seznamu a hodnotou jeho délka\n",
    "  - Příklad vstupu\n",
    "    - `['jablka', 'hrušky', 'kiwi', 'ananas']`, `['abc', ('a', 'b'), 'lmn']`, `['']`\n",
    "  - Příklad výstupu\n",
    "    - `{'ananas': 6, 'hrušky': 6, 'jablka': 6, 'kiwi': 4}`, `{('a', 'b'): 2, 'abc': 3, 'lmn': 3}`, `{'': 0}`"
   ]
  },
  {
   "cell_type": "code",
   "execution_count": 7,
   "metadata": {},
   "outputs": [
    {
     "name": "stdout",
     "output_type": "stream",
     "text": [
      "{'jablka': 6, 'hrušky': 6, 'kiwi': 4, 'ananas': 6}\n",
      "{'abc': 3, ('a', 'b'): 2, 'lmn': 3}\n",
      "{'': 0}\n"
     ]
    }
   ],
   "source": [
    "inputs = [['jablka', 'hrušky', 'kiwi', 'ananas'], ['abc', ('a', 'b'), 'lmn'], ['']]\n",
    "for item in inputs:\n",
    "    print({elem: len(elem) for elem in item})"
   ]
  },
  {
   "cell_type": "markdown",
   "metadata": {},
   "source": [
    "8.\n",
    "  - Zadání\n",
    "    - Vytisknout n-tici, kde první prvek je počet lichých čísel v seznamu a druhý prvek je počet sudých čísel \n",
    "  - Příklad vstupu\n",
    "    - `[1, 2, 3]`, `[1, 3]`, `[0, 2, 3]`\n",
    "  - Příklad výstupu\n",
    "    - `(2, 1)`, `(2, 0)`, `(1, 2)`\n"
   ]
  },
  {
   "cell_type": "code",
   "execution_count": 8,
   "metadata": {},
   "outputs": [
    {
     "name": "stdout",
     "output_type": "stream",
     "text": [
      "(2, 1)\n",
      "(2, 0)\n",
      "(1, 2)\n"
     ]
    }
   ],
   "source": [
    "inputs = [[1, 2, 3], [1, 3], [0, 2, 3]]\n",
    "for item in inputs:\n",
    "    odd = 0\n",
    "    even = 0\n",
    "    for elem in item:\n",
    "        if elem % 2 == 1:\n",
    "            odd += 1\n",
    "        elif elem % 2 == 0:\n",
    "            even += 1\n",
    "    res = odd, even\n",
    "    print(res)"
   ]
  },
  {
   "cell_type": "markdown",
   "metadata": {},
   "source": [
    "9.\n",
    "  - Zadání\n",
    "    - Vytisknout samohlásky v řetězci velkými pismeny \n",
    "  - Příklad vstupu\n",
    "    - `'python'`, `'ou'`, `'krk'`\n",
    "  - Příklad výstupu\n",
    "    - `'pythOn'`, `'OU'`, `'krk'`"
   ]
  },
  {
   "cell_type": "code",
   "execution_count": 9,
   "metadata": {},
   "outputs": [
    {
     "name": "stdout",
     "output_type": "stream",
     "text": [
      "pythOn\n",
      "OU\n",
      "krk\n"
     ]
    }
   ],
   "source": [
    "vowels = 'aeoui'\n",
    "inputs = ['python', 'ou', 'krk']\n",
    "for item in inputs:\n",
    "    print(''.join([elem.upper() if elem in vowels else elem for elem in item]))"
   ]
  },
  {
   "cell_type": "markdown",
   "metadata": {},
   "source": [
    "10.\n",
    "  - Zadání\n",
    "    - Vytisknout počet hvězdiček (`*`) dle hodnot v seznamu\n",
    "  - Příklad vstupu\n",
    "    - `[1, 2, 3]`, `[3, 2, 1]`, `[5, 0, 5]`\n",
    "  - Příklad výstupu\n",
    "  \n",
    "```\n",
    "*\n",
    "**\n",
    "***\n",
    "```\n",
    ", \n",
    "```\n",
    "***\n",
    "**\n",
    "*\n",
    "```\n",
    ",\n",
    "\n",
    "```\n",
    "*****\n",
    "\n",
    "*****\n",
    "```"
   ]
  },
  {
   "cell_type": "code",
   "execution_count": 10,
   "metadata": {},
   "outputs": [
    {
     "name": "stdout",
     "output_type": "stream",
     "text": [
      "*\n",
      "**\n",
      "***\n",
      "\n",
      "***\n",
      "**\n",
      "*\n",
      "\n",
      "*****\n",
      "\n",
      "*****\n",
      "\n"
     ]
    }
   ],
   "source": [
    "inputs = [[1, 2, 3], [3, 2, 1], [5, 0, 5]]\n",
    "for item in inputs:\n",
    "    for elem in item:\n",
    "        print('*' * elem)\n",
    "    print('')"
   ]
  },
  {
   "cell_type": "code",
   "execution_count": null,
   "metadata": {},
   "outputs": [],
   "source": []
  }
 ],
 "metadata": {
  "kernelspec": {
   "display_name": "Python 3",
   "language": "python",
   "name": "python3"
  },
  "language_info": {
   "codemirror_mode": {
    "name": "ipython",
    "version": 3
   },
   "file_extension": ".py",
   "mimetype": "text/x-python",
   "name": "python",
   "nbconvert_exporter": "python",
   "pygments_lexer": "ipython3",
   "version": "3.6.2"
  }
 },
 "nbformat": 4,
 "nbformat_minor": 2
}
