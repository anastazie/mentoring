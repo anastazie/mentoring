{
 "cells": [
  {
   "cell_type": "markdown",
   "metadata": {},
   "source": [
    "# Poznámky 12.2.2019\n",
    "\n",
    "Otazky z minulého setkání:\n",
    "\n",
    "1. Hešovatelnost datových typů v Pythonu\n",
    "2. `kwargs` a `args`\n",
    "3. PEP8"
   ]
  },
  {
   "cell_type": "markdown",
   "metadata": {},
   "source": [
    "## 1. Hešovatelnost datových typů v Pythonu\n",
    "\n",
    "Python má měnitelné (mutable) a neměnitelné (immutable) datové typy.\n",
    "To, že datový typ je měnitelný poznáme tak, že když ho nějak pozměníme, zustane `id` objektu stejné (viz. příklad).\n",
    "\n",
    "Je to trochu neintuitivní, ale **měnitelný** je takový datový typ, u kterého **pod stejným `id` může být různý obsah**, tedy id se mení, ale obsah zůstává.\n",
    "\n",
    "Na druhou stranu, **neměnitelné** datové typy mají **jiné id po každé upravě**. Níže je uveden příklad porovnání seznamu a n-tice\n",
    "\n",
    "Python má hešovatené neměnitelné datové typy. Hešovatelnost je taková vlastnost objektů, že během svého životu nemění id (jedná se o neměnitelný objekt).\n",
    "\n",
    "Měnitelné objekty:\n",
    "- `int`\n",
    "- `float`\n",
    "- `bool`\n",
    "- `string`\n",
    "- `tuple`\n",
    "\n",
    "Neměnitelné objekty:\n",
    "- `list`\n",
    "- `dictionary`\n",
    "- `set`"
   ]
  },
  {
   "cell_type": "code",
   "execution_count": 1,
   "metadata": {},
   "outputs": [
    {
     "name": "stdout",
     "output_type": "stream",
     "text": [
      "list id 4479052360\n",
      "tuple id 4479835160\n"
     ]
    }
   ],
   "source": [
    "var1 = [1, 2, 3]\n",
    "var2 = (1, 2, 3)\n",
    "print('list id', id(var1))\n",
    "print('tuple id', id(var2))"
   ]
  },
  {
   "cell_type": "code",
   "execution_count": 2,
   "metadata": {},
   "outputs": [
    {
     "name": "stdout",
     "output_type": "stream",
     "text": [
      "[1, 2, 3, 4, 5]\n",
      "(1, 2, 3, 4, 5)\n",
      "list id 4479052360\n",
      "tuple id 4478795624\n"
     ]
    }
   ],
   "source": [
    "var1 += [4, 5]\n",
    "var2 += (4, 5)\n",
    "print(var1)\n",
    "print(var2)\n",
    "print('list id', id(var1))\n",
    "print('tuple id', id(var2))"
   ]
  },
  {
   "cell_type": "markdown",
   "metadata": {},
   "source": [
    "## 2. `kwargs` a `args`\n",
    "\n",
    "- `**kwargs` jsou argumenty klíč-hodnota\n",
    "- `*args` je seznam argumentů (**ne klíč-hodnota**)\n",
    "\n",
    "Hodně se mi libil [tento článek](https://www.programiz.com/python-programming/args-and-kwargs)."
   ]
  },
  {
   "cell_type": "code",
   "execution_count": 3,
   "metadata": {},
   "outputs": [],
   "source": [
    "# Definujeme funkci pro násobení dvou čísel\n",
    "def multiply(num1, num2):\n",
    "    return num1*num2"
   ]
  },
  {
   "cell_type": "code",
   "execution_count": 4,
   "metadata": {},
   "outputs": [
    {
     "data": {
      "text/plain": [
       "10"
      ]
     },
     "execution_count": 4,
     "metadata": {},
     "output_type": "execute_result"
    }
   ],
   "source": [
    "# Všechno funguje dobře\n",
    "multiply(2, 5)"
   ]
  },
  {
   "cell_type": "code",
   "execution_count": 5,
   "metadata": {},
   "outputs": [
    {
     "ename": "TypeError",
     "evalue": "multiply() takes 2 positional arguments but 3 were given",
     "output_type": "error",
     "traceback": [
      "\u001b[0;31m----------------------------------------------------------------------\u001b[0m",
      "\u001b[0;31mTypeError\u001b[0m                            Traceback (most recent call last)",
      "\u001b[0;32m<ipython-input-5-eeea042c8491>\u001b[0m in \u001b[0;36m<module>\u001b[0;34m()\u001b[0m\n\u001b[1;32m      1\u001b[0m \u001b[0;31m# Co když chceme přidát více čísel?\u001b[0m\u001b[0;34m\u001b[0m\u001b[0;34m\u001b[0m\u001b[0m\n\u001b[0;32m----> 2\u001b[0;31m \u001b[0mmultiply\u001b[0m\u001b[0;34m(\u001b[0m\u001b[0;36m2\u001b[0m\u001b[0;34m,\u001b[0m \u001b[0;36m5\u001b[0m\u001b[0;34m,\u001b[0m \u001b[0;36m4\u001b[0m\u001b[0;34m)\u001b[0m\u001b[0;34m\u001b[0m\u001b[0m\n\u001b[0m",
      "\u001b[0;31mTypeError\u001b[0m: multiply() takes 2 positional arguments but 3 were given"
     ]
    }
   ],
   "source": [
    "# Co když chceme přidát více čísel?\n",
    "multiply(2, 5, 4)"
   ]
  },
  {
   "cell_type": "code",
   "execution_count": 6,
   "metadata": {},
   "outputs": [],
   "source": [
    "# Tento problém můžeme vyřešit s *args\n",
    "def multiply2(*nums):\n",
    "    result = 1\n",
    "    for num in nums:\n",
    "        result *= num\n",
    "    return result"
   ]
  },
  {
   "cell_type": "code",
   "execution_count": 7,
   "metadata": {},
   "outputs": [
    {
     "data": {
      "text/plain": [
       "40"
      ]
     },
     "execution_count": 7,
     "metadata": {},
     "output_type": "execute_result"
    }
   ],
   "source": [
    "multiply2(2, 5, 4)"
   ]
  },
  {
   "cell_type": "code",
   "execution_count": 8,
   "metadata": {},
   "outputs": [],
   "source": [
    "# **kwargs využijeme tehdy, když dopředu neznáme názvy klíčů\n",
    "# Například, když spojujeme 2 libovolné slovníky\n",
    "def combine_dictionaries(dictionary1, dictionary2):\n",
    "    return {**dictionary1, **dictionary2}"
   ]
  },
  {
   "cell_type": "code",
   "execution_count": 9,
   "metadata": {},
   "outputs": [
    {
     "data": {
      "text/plain": [
       "{'a': 1, 'c': 2, 'd': 3, 'e': 1, 'f': 15}"
      ]
     },
     "execution_count": 9,
     "metadata": {},
     "output_type": "execute_result"
    }
   ],
   "source": [
    "dictionary1 = {'a': 1, 'c': 2, 'd': 3}\n",
    "dictionary2 = {'e': 1, 'f': 15}\n",
    "combine_dictionaries(dictionary1, dictionary2)"
   ]
  },
  {
   "cell_type": "markdown",
   "metadata": {},
   "source": [
    "## 3. PEP8\n",
    "\n",
    "PEP - Python Enhancement Proposals - návrhy na zlepšení.\n",
    "[PEP8](https://www.python.org/dev/peps/pep-0008/) - návod, jak psat hezky kód v Pythonu.\n",
    "\n",
    "### Výnatek:\n",
    "\n",
    "- Odsazení\n",
    "    - Používat tabulatory nebo mezery, ale ne oboji zároveň\n",
    "- Pojmenování\n",
    "    - Vyhnout se jednopismenným jménům, obzvlášť O,I,l\n",
    "    - Proměnné a funkce\n",
    "        - sum_numbers, fruit_list (snake_case) 🐍\n",
    "    - Konstanty\n",
    "        - TOTAL, URL (kapitálky)\n",
    "    - Třídy\n",
    "        - BarChart, DataFrame (CamelCase) 🐫\n",
    "- Rozdělení výrazu na více řádků\n",
    "\n",
    "```python\n",
    "sum_num = (\n",
    "    num1\n",
    "    + num2\n",
    ")\n",
    "```"
   ]
  },
  {
   "cell_type": "code",
   "execution_count": null,
   "metadata": {},
   "outputs": [],
   "source": []
  }
 ],
 "metadata": {
  "kernelspec": {
   "display_name": "Python 3",
   "language": "python",
   "name": "python3"
  },
  "language_info": {
   "codemirror_mode": {
    "name": "ipython",
    "version": 3
   },
   "file_extension": ".py",
   "mimetype": "text/x-python",
   "name": "python",
   "nbconvert_exporter": "python",
   "pygments_lexer": "ipython3",
   "version": "3.6.2"
  }
 },
 "nbformat": 4,
 "nbformat_minor": 2
}
